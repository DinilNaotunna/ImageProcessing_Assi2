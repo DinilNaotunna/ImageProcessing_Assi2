{
  "nbformat": 4,
  "nbformat_minor": 0,
  "metadata": {
    "colab": {
      "provenance": []
    },
    "kernelspec": {
      "name": "python3",
      "display_name": "Python 3"
    },
    "language_info": {
      "name": "python"
    }
  },
  "cells": [
    {
      "cell_type": "code",
      "execution_count": null,
      "metadata": {
        "id": "t42NMCBZUJtu",
        "colab": {
          "base_uri": "https://localhost:8080/"
        },
        "outputId": "7d90a25d-70f1-4c0a-b903-cd26f9518d31"
      },
      "outputs": [
        {
          "output_type": "stream",
          "name": "stdout",
          "text": [
            "(9, 1442, 1442)\n"
          ]
        }
      ],
      "source": [
        "import numpy as np\n",
        "import cv2\n",
        "\n",
        "def LoG(sigma):\n",
        "    n = int(np.ceil(sigma * 6))\n",
        "    y, x = np.ogrid[-n//2:n//2+1, -n//2:n//2+1]\n",
        "    kernel = (-1 / (np.pi * sigma**4)) * (1 - (x**2 + y**2) / (2 * sigma**2)) * np.exp(-(x**2 + y**2) / (2 * sigma**2))\n",
        "    return kernel\n",
        "\n",
        "def LoG_convolve(img):\n",
        "    log_images = []\n",
        "    k = 1.2 # Scaling factor, you might want to adjust this based on your needs\n",
        "    for i in range(1, 10):\n",
        "        sigma_1 = i * k\n",
        "        filter_log = LoG(sigma_1)\n",
        "        image = cv2.filter2D(img, -1, filter_log)\n",
        "        image = np.pad(image, ((1, 1), (1, 1)), 'constant')\n",
        "        image = np.square(image)\n",
        "        log_images.append(image)\n",
        "    log_image_np = np.array(log_images)\n",
        "    return log_image_np\n",
        "\n",
        "# Example usage\n",
        "img = cv2.imread('/content/the_berry_farms_sunflower_field.jpeg', cv2.IMREAD_GRAYSCALE)\n",
        "log_image_np = LoG_convolve(img)\n",
        "print(log_image_np.shape)\n",
        "\n"
      ]
    },
    {
      "cell_type": "code",
      "source": [
        "import numpy as np\n",
        "import cv2\n",
        "\n",
        "def detect_blob(log_image_np, sigma, k):\n",
        "    co_ordinates = []\n",
        "    (depth, h, w) = log_image_np.shape\n",
        "    for i in range(1, h-1):\n",
        "        for j in range(1, w-1):\n",
        "            slice_img = log_image_np[:, i-1:i+2, j-1:j+2]\n",
        "            max_value = np.amax(slice_img)\n",
        "            if max_value >= 0.03:\n",
        "                z, x, y = np.unravel_index(slice_img.argmax(), slice_img.shape)\n",
        "                co_ordinates.append((i + x - 1, j + y - 1, k**z * sigma))\n",
        "    return co_ordinates\n",
        "\n",
        "def remove_redundant_coordinates(coordinates, threshold=0.5):\n",
        "    unique_coordinates = []\n",
        "    for coord in coordinates:\n",
        "        is_unique = True\n",
        "        for unique_coord in unique_coordinates:\n",
        "            distance = np.sqrt((coord[0] - unique_coord[0])**2 + (coord[1] - unique_coord[1])**2)\n",
        "            if distance < threshold * unique_coord[2]:\n",
        "                is_unique = False\n",
        "                break\n",
        "        if is_unique:\n",
        "            unique_coordinates.append(coord)\n",
        "    return np.array(unique_coordinates)\n",
        "sigma = 1.0\n",
        "k = 1.2\n",
        "coordinates = detect_blob(log_image_np, sigma, k)\n",
        "unique_coordinates = remove_redundant_coordinates(coordinates, threshold=0.5)\n",
        "print(unique_coordinates)\n"
      ],
      "metadata": {
        "id": "5dmGDygCVu02",
        "colab": {
          "base_uri": "https://localhost:8080/",
          "height": 381
        },
        "outputId": "96a51a89-6645-492a-8fea-ebdf47d7204b"
      },
      "execution_count": null,
      "outputs": [
        {
          "output_type": "error",
          "ename": "KeyboardInterrupt",
          "evalue": "ignored",
          "traceback": [
            "\u001b[0;31m---------------------------------------------------------------------------\u001b[0m",
            "\u001b[0;31mKeyboardInterrupt\u001b[0m                         Traceback (most recent call last)",
            "\u001b[0;32m<ipython-input-3-f8f372c6c4f8>\u001b[0m in \u001b[0;36m<cell line: 35>\u001b[0;34m()\u001b[0m\n\u001b[1;32m     33\u001b[0m \u001b[0;34m'''log_image_np = LoG_convolve(img, sigma)'''\u001b[0m\u001b[0;34m\u001b[0m\u001b[0;34m\u001b[0m\u001b[0m\n\u001b[1;32m     34\u001b[0m \u001b[0mcoordinates\u001b[0m \u001b[0;34m=\u001b[0m \u001b[0mdetect_blob\u001b[0m\u001b[0;34m(\u001b[0m\u001b[0mlog_image_np\u001b[0m\u001b[0;34m,\u001b[0m \u001b[0msigma\u001b[0m\u001b[0;34m,\u001b[0m \u001b[0mk\u001b[0m\u001b[0;34m)\u001b[0m\u001b[0;34m\u001b[0m\u001b[0;34m\u001b[0m\u001b[0m\n\u001b[0;32m---> 35\u001b[0;31m \u001b[0munique_coordinates\u001b[0m \u001b[0;34m=\u001b[0m \u001b[0mremove_redundant_coordinates\u001b[0m\u001b[0;34m(\u001b[0m\u001b[0mcoordinates\u001b[0m\u001b[0;34m,\u001b[0m \u001b[0mthreshold\u001b[0m\u001b[0;34m=\u001b[0m\u001b[0;36m0.5\u001b[0m\u001b[0;34m)\u001b[0m\u001b[0;34m\u001b[0m\u001b[0;34m\u001b[0m\u001b[0m\n\u001b[0m\u001b[1;32m     36\u001b[0m \u001b[0;34m\u001b[0m\u001b[0m\n\u001b[1;32m     37\u001b[0m \u001b[0mprint\u001b[0m\u001b[0;34m(\u001b[0m\u001b[0munique_coordinates\u001b[0m\u001b[0;34m)\u001b[0m\u001b[0;34m\u001b[0m\u001b[0;34m\u001b[0m\u001b[0m\n",
            "\u001b[0;32m<ipython-input-3-f8f372c6c4f8>\u001b[0m in \u001b[0;36mremove_redundant_coordinates\u001b[0;34m(coordinates, threshold)\u001b[0m\n\u001b[1;32m     19\u001b[0m         \u001b[0mis_unique\u001b[0m \u001b[0;34m=\u001b[0m \u001b[0;32mTrue\u001b[0m\u001b[0;34m\u001b[0m\u001b[0;34m\u001b[0m\u001b[0m\n\u001b[1;32m     20\u001b[0m         \u001b[0;32mfor\u001b[0m \u001b[0munique_coord\u001b[0m \u001b[0;32min\u001b[0m \u001b[0munique_coordinates\u001b[0m\u001b[0;34m:\u001b[0m\u001b[0;34m\u001b[0m\u001b[0;34m\u001b[0m\u001b[0m\n\u001b[0;32m---> 21\u001b[0;31m             \u001b[0mdistance\u001b[0m \u001b[0;34m=\u001b[0m \u001b[0mnp\u001b[0m\u001b[0;34m.\u001b[0m\u001b[0msqrt\u001b[0m\u001b[0;34m(\u001b[0m\u001b[0;34m(\u001b[0m\u001b[0mcoord\u001b[0m\u001b[0;34m[\u001b[0m\u001b[0;36m0\u001b[0m\u001b[0;34m]\u001b[0m \u001b[0;34m-\u001b[0m \u001b[0munique_coord\u001b[0m\u001b[0;34m[\u001b[0m\u001b[0;36m0\u001b[0m\u001b[0;34m]\u001b[0m\u001b[0;34m)\u001b[0m\u001b[0;34m**\u001b[0m\u001b[0;36m2\u001b[0m \u001b[0;34m+\u001b[0m \u001b[0;34m(\u001b[0m\u001b[0mcoord\u001b[0m\u001b[0;34m[\u001b[0m\u001b[0;36m1\u001b[0m\u001b[0;34m]\u001b[0m \u001b[0;34m-\u001b[0m \u001b[0munique_coord\u001b[0m\u001b[0;34m[\u001b[0m\u001b[0;36m1\u001b[0m\u001b[0;34m]\u001b[0m\u001b[0;34m)\u001b[0m\u001b[0;34m**\u001b[0m\u001b[0;36m2\u001b[0m\u001b[0;34m)\u001b[0m\u001b[0;34m\u001b[0m\u001b[0;34m\u001b[0m\u001b[0m\n\u001b[0m\u001b[1;32m     22\u001b[0m             \u001b[0;32mif\u001b[0m \u001b[0mdistance\u001b[0m \u001b[0;34m<\u001b[0m \u001b[0mthreshold\u001b[0m \u001b[0;34m*\u001b[0m \u001b[0munique_coord\u001b[0m\u001b[0;34m[\u001b[0m\u001b[0;36m2\u001b[0m\u001b[0;34m]\u001b[0m\u001b[0;34m:\u001b[0m\u001b[0;34m\u001b[0m\u001b[0;34m\u001b[0m\u001b[0m\n\u001b[1;32m     23\u001b[0m                 \u001b[0mis_unique\u001b[0m \u001b[0;34m=\u001b[0m \u001b[0;32mFalse\u001b[0m\u001b[0;34m\u001b[0m\u001b[0;34m\u001b[0m\u001b[0m\n",
            "\u001b[0;31mKeyboardInterrupt\u001b[0m: "
          ]
        }
      ]
    }
  ]
}